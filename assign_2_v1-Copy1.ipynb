{
 "cells": [
  {
   "cell_type": "code",
   "execution_count": 1,
   "metadata": {},
   "outputs": [
    {
     "name": "stdout",
     "output_type": "stream",
     "text": [
      "['msno', 'song_id', 'source_system_tab', 'source_screen_name', 'source_type', 'target']\n"
     ]
    }
   ],
   "source": [
    "import pandas as pd\n",
    "data = pd.read_csv('train.csv',header=0)\n",
    "print(list(data))\n"
   ]
  },
  {
   "cell_type": "code",
   "execution_count": 2,
   "metadata": {},
   "outputs": [
    {
     "name": "stdout",
     "output_type": "stream",
     "text": [
      "[('FGtllVqz18RPiwJj/edr2gV78zirAiY/9SmYvia+kCg=', 'BBzumQNXUHKdEBOB7mAJuzok+IJA1c2Ryg/yzTF6tik='), ('Xumu+NIjS6QYVxDS4/t3SawvJ7viT9hPKXmf0RtLNx8=', 'bhp/MpSNoqoxOIB+/l8WPqu6jldth4DIpCm3ayXnJqM='), ('Xumu+NIjS6QYVxDS4/t3SawvJ7viT9hPKXmf0RtLNx8=', 'JNWfrrC7zNN7BdMpsISKa4Mw+xVJYNnxXh3/Epw7QgY='), ('Xumu+NIjS6QYVxDS4/t3SawvJ7viT9hPKXmf0RtLNx8=', '2A87tzfnJTSWqD7gIZHisolhe4DMdzkbd6LzO1KHjNs='), ('FGtllVqz18RPiwJj/edr2gV78zirAiY/9SmYvia+kCg=', '3qm6XTZ6MOCU11x8FIVbAGH5l5uMkT3/ZalWG1oo2Gc=')]\n"
     ]
    }
   ],
   "source": [
    "\n",
    "X =[(data['msno'][i],data['song_id'][i]) for i in range(1000000)]\n",
    "Y = [data['target'][i] for i in range(1000000)]\n",
    "\n",
    "print(X[:5])\n",
    "\n"
   ]
  },
  {
   "cell_type": "code",
   "execution_count": 103,
   "metadata": {},
   "outputs": [
    {
     "name": "stdout",
     "output_type": "stream",
     "text": [
      "300000\n"
     ]
    }
   ],
   "source": [
    "members= pd.read_csv('members.csv',header=0)\n",
    "from sklearn.model_selection import train_test_split\n",
    "X_train, X_test, y_train, y_test = train_test_split(X, Y, test_size=0.30, random_state=42, shuffle=True)\n",
    "\n",
    "print(len(y_test))"
   ]
  },
  {
   "cell_type": "code",
   "execution_count": 104,
   "metadata": {},
   "outputs": [
    {
     "name": "stdout",
     "output_type": "stream",
     "text": [
      "300000\n"
     ]
    }
   ],
   "source": [
    "from collections import defaultdict\n",
    "\n",
    "song_list = defaultdict(set)\n",
    "user_list=dict(defaultdict(str))\n",
    "\n",
    "for d in X_train:\n",
    "    user = d[0]\n",
    "    song = d[1]\n",
    "    song_list[song].add(user)\n",
    "\n",
    "for i in song_list:\n",
    "    s=song_list[i]\n",
    "    for u1 in s:\n",
    "        for u2 in s:\n",
    "            if u1!=u2:\n",
    "                if u1 in user_list:\n",
    "                    if u2 in user_list[u1]:\n",
    "                        user_list[u1][u2] +=1\n",
    "                    else:\n",
    "                        user_list[u1][u2]=1\n",
    "                else:\n",
    "                    user_list[u1]=defaultdict(str)\n",
    "                    user_list[u1][u2]=1\n",
    "                    \n",
    "\n",
    "\n",
    "print(len(y_test))"
   ]
  },
  {
   "cell_type": "code",
   "execution_count": null,
   "metadata": {
    "collapsed": true
   },
   "outputs": [],
   "source": []
  },
  {
   "cell_type": "code",
   "execution_count": null,
   "metadata": {},
   "outputs": [],
   "source": [
    "# for u in user_list:\n",
    "#     user_list[u]= sorted(user_list[u].items(), key=lambda k_v: k_v[1], reverse=True)\n",
    "\n",
    "# print(user_list['fg1w6/8iqYE0wNR5PuqkXbCkfShG/JgL7whHhA8eraY='])"
   ]
  },
  {
   "cell_type": "code",
   "execution_count": 85,
   "metadata": {},
   "outputs": [
    {
     "name": "stdout",
     "output_type": "stream",
     "text": [
      "[1, 1, 1, 1, 0, 0, 1, 0, 1, 1]\n"
     ]
    }
   ],
   "source": [
    "print(y_test[:10])"
   ]
  },
  {
   "cell_type": "code",
   "execution_count": 105,
   "metadata": {
    "collapsed": true
   },
   "outputs": [],
   "source": [
    "user_music = defaultdict(list)\n",
    "for i in X_train:\n",
    "    user=i[0]\n",
    "    music=i[1]\n",
    "    user_music[user].append(music)"
   ]
  },
  {
   "cell_type": "code",
   "execution_count": 106,
   "metadata": {},
   "outputs": [
    {
     "name": "stdout",
     "output_type": "stream",
     "text": [
      "300000\n",
      "Accuracy on validation set: 0.655705970309\n"
     ]
    }
   ],
   "source": [
    "##y_train=[]\n",
    "y_predict=[]\n",
    "print(len(y_test))\n",
    "for i in range(len(y_test)):\n",
    "    u=X_test[i][0]\n",
    "    m=X_test[i][1]\n",
    "    \n",
    "    flag=False\n",
    "    if u in user_list:\n",
    "        for users in user_list[u]:\n",
    "            if users in song_list[m]:\n",
    "                y_predict.append(1)\n",
    "                flag=True\n",
    "                break\n",
    "        if flag==False:\n",
    "            y_predict.append(0)   \n",
    "\n",
    "\n",
    "##print(len(validation_set))\n",
    "correct = [x==y for(x,y) in zip(y_test,y_predict)]\n",
    "acc = sum(correct) * 1.0 / len(correct)  \n",
    "\n",
    "print(\"Accuracy on validation set:\",acc)"
   ]
  },
  {
   "cell_type": "code",
   "execution_count": 107,
   "metadata": {},
   "outputs": [
    {
     "name": "stdout",
     "output_type": "stream",
     "text": [
      "700000\n",
      "Accuracy on validation set: 0.662933391259\n"
     ]
    }
   ],
   "source": [
    "### Testing for training set\n",
    "\n",
    "y_predict=[]\n",
    "print(len(y_train))\n",
    "for i in range(len(y_train)):\n",
    "    u=X_train[i][0]\n",
    "    m=X_train[i][1]\n",
    "    \n",
    "    flag=False\n",
    "    if u in user_list:\n",
    "        for users in user_list[u]:\n",
    "            if users in song_list[m]:\n",
    "                y_predict.append(1)\n",
    "                flag=True\n",
    "                break\n",
    "        if flag==False:\n",
    "            y_predict.append(0)   \n",
    "\n",
    "\n",
    "##print(len(validation_set))\n",
    "correct = [x==y for(x,y) in zip(y_train,y_predict)]\n",
    "acc = sum(correct) * 1.0 / len(correct)  \n",
    "\n",
    "print(\"Accuracy on validation set:\",acc)"
   ]
  },
  {
   "cell_type": "markdown",
   "metadata": {},
   "source": [
    "### Vesrion 2"
   ]
  },
  {
   "cell_type": "code",
   "execution_count": 15,
   "metadata": {},
   "outputs": [
    {
     "name": "stdout",
     "output_type": "stream",
     "text": [
      "['song_id', 'song_length', 'genre_ids', 'artist_name', 'composer', 'lyricist', 'language']\n"
     ]
    }
   ],
   "source": [
    "song_data = pd.read_csv('songs.csv',header=0)\n",
    "\n",
    "\n",
    "\n",
    "print(list(song_data))"
   ]
  },
  {
   "cell_type": "code",
   "execution_count": 110,
   "metadata": {
    "collapsed": true
   },
   "outputs": [],
   "source": [
    "songs =[(song_data['song_id'][i],song_data['song_length'][i],song_data['genre_ids'][i],\n",
    "     song_data['artist_name'][i],song_data['composer'][i],song_data['lyricist'][i],\n",
    "    song_data['language'][i],) for i in range(len(song_data))]"
   ]
  },
  {
   "cell_type": "code",
   "execution_count": 135,
   "metadata": {},
   "outputs": [
    {
     "name": "stdout",
     "output_type": "stream",
     "text": [
      "2296320\n"
     ]
    }
   ],
   "source": [
    "print(len(songs))"
   ]
  },
  {
   "cell_type": "markdown",
   "metadata": {},
   "source": [
    "### Song Song Similarity"
   ]
  },
  {
   "cell_type": "code",
   "execution_count": 43,
   "metadata": {},
   "outputs": [
    {
     "name": "stdout",
     "output_type": "stream",
     "text": [
      "('FGtllVqz18RPiwJj/edr2gV78zirAiY/9SmYvia+kCg=', 'BBzumQNXUHKdEBOB7mAJuzok+IJA1c2Ryg/yzTF6tik=')\n",
      "1\n"
     ]
    }
   ],
   "source": [
    "#### Song-Song Similarity\n",
    "\n",
    "X =[(data['msno'][i],data['song_id'][i]) for i in range(1000)]\n",
    "Y = [data['target'][i] for i in range(1000)]\n",
    "\n",
    "print(X[0])\n",
    "print(Y[0])"
   ]
  },
  {
   "cell_type": "code",
   "execution_count": 44,
   "metadata": {},
   "outputs": [],
   "source": [
    "users_songlist=defaultdict(set)\n",
    "songs_songs_list=dict(defaultdict(str))\n",
    "\n",
    "for d in range(len(X)):\n",
    "    user = X[d][0]\n",
    "    song = X[d][1]\n",
    "    if Y[d]==1:\n",
    "        users_songlist[user].add(song)\n",
    "\n",
    "for i in users_songlist:\n",
    "    u=users_songlist[i]\n",
    "    for s1 in u:\n",
    "        for s2 in u:\n",
    "            if s1!=s2:\n",
    "                if s1 in songs_songs_list:\n",
    "                    if s2 in songs_songs_list[s1]:\n",
    "                        songs_songs_list[s1][s2] +=1\n",
    "                    else:\n",
    "                        songs_songs_list[s1][s2]=1\n",
    "                else:\n",
    "                    songs_songs_list[s1]=defaultdict(str)\n",
    "                    songs_songs_list[s1][s2]=1\n",
    "\n",
    "\n"
   ]
  },
  {
   "cell_type": "markdown",
   "metadata": {
    "collapsed": true
   },
   "source": [
    "### user-user similarity based on songs\n",
    "    "
   ]
  },
  {
   "cell_type": "markdown",
   "metadata": {},
   "source": [
    "song_list = defaultdict(set)\n",
    "user_list=dict(defaultdict(str))\n",
    "\n",
    "for d in X_train:\n",
    "    user = d[0]\n",
    "    song = d[1]\n",
    "    song_list[song].add(user)\n",
    "\n",
    "for i in song_list:\n",
    "    s=song_list[i]\n",
    "    for u1 in s:\n",
    "        for u2 in s:\n",
    "            if u1!=u2:\n",
    "                if u1 in user_list:\n",
    "                    if u2 in user_list[u1]:\n",
    "                        user_list[u1][u2] +=1\n",
    "                    else:\n",
    "                        user_list[u1][u2]=1\n",
    "                else:\n",
    "                    user_list[u1]=defaultdict(str)\n",
    "                    user_list[u1][u2]=1\n",
    "                    \n",
    "\n",
    "\n",
    "print(len(y_test))"
   ]
  },
  {
   "cell_type": "markdown",
   "metadata": {},
   "source": [
    "### Artist user Similarity"
   ]
  },
  {
   "cell_type": "code",
   "execution_count": 131,
   "metadata": {
    "collapsed": true
   },
   "outputs": [],
   "source": [
    "artist_userlist=defaultdict(set)\n",
    "sim_users_art=dict(defaultdict(str))\n",
    "\n",
    "for d in X:\n",
    "    user = d[0]\n",
    "    song = d[1]\n",
    "    artist= songs_to_artist[song]\n",
    "    artist_userlist[artist].add(user)\n",
    "\n",
    "for i in artist_userlist:\n",
    "    a=artist_userlist[i]\n",
    "    for u1 in a:\n",
    "        for u2 in a:\n",
    "            if u1!=u2:\n",
    "                if u1 in sim_users_art:\n",
    "                    if u2 in sim_users_art[u1]:\n",
    "                        sim_users_art[u1][u2] +=1\n",
    "                    else:\n",
    "                        sim_users_art[u1][u2]=1\n",
    "                else:\n",
    "                    sim_users_art[u1]=defaultdict(str)\n",
    "                    sim_users_art[u1][u2]=1\n",
    "\n",
    "\n"
   ]
  },
  {
   "cell_type": "code",
   "execution_count": 133,
   "metadata": {},
   "outputs": [
    {
     "name": "stdout",
     "output_type": "stream",
     "text": [
      "19104\n"
     ]
    }
   ],
   "source": [
    "print(len(artist_userlist ))"
   ]
  },
  {
   "cell_type": "markdown",
   "metadata": {},
   "source": [
    "### Sparsh Code"
   ]
  },
  {
   "cell_type": "code",
   "execution_count": 16,
   "metadata": {},
   "outputs": [],
   "source": [
    "genre_list = defaultdict(int)\n",
    "song_genre_list = dict(defaultdict(int))\n",
    "artist_list = defaultdict(int)\n",
    "language_list = defaultdict(int)\n",
    "composer_list = defaultdict(int)\n",
    "song_artist_list = defaultdict(str)\n",
    "song_language_list = defaultdict(str)\n",
    "song_composer_list = defaultdict(str)\n",
    "\n",
    "for i in range(len(song_data)):\n",
    "    s = song_data['song_id'][i]\n",
    "\n",
    "    if s not in song_genre_list:\n",
    "        song_genre_list[s] = defaultdict(int)\n",
    "    if  not pd.isnull(song_data.loc[i,'genre_ids']):\n",
    "        genlist = song_data['genre_ids'][i].split('|')\n",
    "        #print(genlist)\n",
    "        for j in range(len(genlist)):\n",
    "            song_genre_list[s][genlist[j]] = 1\n",
    "            genre_list[genlist[j]] += 1\n",
    "\n",
    "    song_artist_list[s] = song_data['artist_name'][i]\n",
    "    artist_list[song_data['artist_name'][i]] += 1\n",
    "\n",
    "    song_language_list[s] = song_data['language'][i]\n",
    "    language_list[song_data['language'][i]] += 1\n",
    "\n",
    "    if  not pd.isnull(song_data.loc[i,'composer']):\n",
    "        song_composer_list[s] = song_data['composer'][i]\n",
    "        composer_list[song_data['composer'][i]] += 1\n",
    "\n"
   ]
  },
  {
   "cell_type": "markdown",
   "metadata": {},
   "source": [
    "### user Language similarity"
   ]
  },
  {
   "cell_type": "code",
   "execution_count": 138,
   "metadata": {},
   "outputs": [
    {
     "data": {
      "text/plain": [
       "2296320"
      ]
     },
     "execution_count": 138,
     "metadata": {},
     "output_type": "execute_result"
    }
   ],
   "source": [
    "len(song_language_list)"
   ]
  },
  {
   "cell_type": "code",
   "execution_count": 140,
   "metadata": {
    "collapsed": true
   },
   "outputs": [],
   "source": [
    "language_userlist=defaultdict(set)\n",
    "sim_users_lang=dict(defaultdict(str))\n",
    "\n",
    "for d in X:\n",
    "    user = d[0]\n",
    "    song = d[1]\n",
    "    lang= song_language_list[song]\n",
    "    language_userlist[lang].add(user)\n",
    "\n",
    "\n",
    "\n",
    "for i in language_userlist:\n",
    "    l=language_userlist[i]\n",
    "    for u1 in l:\n",
    "        for u2 in l:\n",
    "            if u1!=u2:\n",
    "                if u1 in sim_users_lang:\n",
    "                    if u2 in sim_users_lang[u1]:\n",
    "                        sim_users_lang[u1][u2] +=1\n",
    "                    else:\n",
    "                        sim_users_lang[u1][u2]=1\n",
    "                else:\n",
    "                    sim_users_lang[u1]=defaultdict(str)\n",
    "                    sim_users_lang[u1][u2]=1"
   ]
  },
  {
   "cell_type": "markdown",
   "metadata": {},
   "source": [
    "### User Genre Similarity"
   ]
  },
  {
   "cell_type": "code",
   "execution_count": 157,
   "metadata": {},
   "outputs": [
    {
     "name": "stdout",
     "output_type": "stream",
     "text": [
      "2296320\n"
     ]
    }
   ],
   "source": [
    "print(len(song_genre_list))\n",
    "\n",
    "genre_userlist=defaultdict(set)\n",
    "sim_users_genre=dict(defaultdict(str))\n",
    "\n",
    "for d in X:\n",
    "    user = d[0]\n",
    "    song = d[1]\n",
    "    if song in song_genre_list:\n",
    "        genres= song_genre_list[song]\n",
    "        for g in genres:\n",
    "            genre_userlist[g].add(user)\n",
    "    \n",
    "\n",
    "for i in genre_userlist:\n",
    "    g=genre_userlist[i]\n",
    "    for u1 in g:\n",
    "        for u2 in g:\n",
    "            if u1!=u2:\n",
    "                if u1 in sim_users_genre:\n",
    "                    if u2 in sim_users_genre[u1]:\n",
    "                        sim_users_genre[u1][u2] +=1\n",
    "                    else:\n",
    "                        sim_users_genre[u1][u2]=1\n",
    "                else:\n",
    "                    sim_users_genre[u1]=defaultdict(str)\n",
    "                    sim_users_genre[u1][u2]=1    \n",
    "\n",
    "\n",
    "\n",
    "            \n",
    "\n"
   ]
  },
  {
   "cell_type": "code",
   "execution_count": 145,
   "metadata": {},
   "outputs": [
    {
     "name": "stdout",
     "output_type": "stream",
     "text": [
      "('o0kFgae9QtnYgRkVPqLJwa05zIhRlUjfF7O1tDw0ZDU=', 197328, '444', 'BLACKPINK', 'TEDDY|  FUTURE BOUNCE|  Bekuh BOOM', 'TEDDY', 31.0)\n"
     ]
    }
   ],
   "source": [
    "print(songs[1])"
   ]
  },
  {
   "cell_type": "code",
   "execution_count": 146,
   "metadata": {},
   "outputs": [
    {
     "name": "stdout",
     "output_type": "stream",
     "text": [
      "9479\n"
     ]
    }
   ],
   "source": [
    "print(len(language_userlist[31.0]))\n"
   ]
  },
  {
   "cell_type": "markdown",
   "metadata": {},
   "source": [
    "### Memeber Data"
   ]
  },
  {
   "cell_type": "code",
   "execution_count": 5,
   "metadata": {},
   "outputs": [
    {
     "name": "stdout",
     "output_type": "stream",
     "text": [
      "['msno', 'city', 'bd', 'gender', 'registered_via', 'registration_init_time', 'expiration_date']\n"
     ]
    }
   ],
   "source": [
    "members = pd.read_csv('members.csv',header=0)\n",
    "print(list(members))"
   ]
  },
  {
   "cell_type": "code",
   "execution_count": 7,
   "metadata": {},
   "outputs": [],
   "source": [
    "from collections import defaultdict\n",
    "gender_list = defaultdict(int)\n",
    "city_list = defaultdict(int)\n",
    "bd_list = defaultdict(int)\n",
    "user_gender_list = defaultdict(str)\n",
    "user_city_list = defaultdict(int)\n",
    "user_bd_list = defaultdict(int)\n",
    "\n",
    "for i in range(len(members)):\n",
    "    u = members['msno'][i]\n",
    "    \n",
    "    if not pd.isnull(members.loc[i,'gender']):\n",
    "        user_gender_list[u] = members['gender'][i]\n",
    "        gender_list[members['gender'][i]] += 1\n",
    "    \n",
    "    user_city_list[u] = members['city'][i]\n",
    "    city_list[members['city'][i]] += 1\n",
    "    \n",
    "    if members['bd'][i] != 0:\n",
    "        user_bd_list[u] = members['bd'][i]\n",
    "        bd_list[members['bd'][i]] += 1\n"
   ]
  },
  {
   "cell_type": "markdown",
   "metadata": {},
   "source": [
    "### Threshold dictionaries"
   ]
  },
  {
   "cell_type": "code",
   "execution_count": 150,
   "metadata": {
    "collapsed": true
   },
   "outputs": [],
   "source": [
    "gender_artist_list = dict(defaultdict(int))\n",
    "gender_composer_list = dict(defaultdict(int))\n",
    "bd_genre_list = dict(defaultdict(int))\n",
    "bd_artist_list = dict(defaultdict(int))\n",
    "city_genre_list = dict(defaultdict(int))\n",
    "city_language_list = dict(defaultdict(int))\n",
    "city_artist_list = dict(defaultdict(int))\n",
    "\n",
    "for i in range(len(X)):\n",
    "    u = X[0]\n",
    "    s = X[1]\n",
    "    \n",
    "    if u in user_gender_list:\n",
    "        if user_gender_list[u] not in gender_genre_list:\n",
    "            gender_genre_list[user_gender_list[u]] = defaultdict(int)\n",
    "        if s in song_genre_list:\n",
    "            for j in song_genre_list[s]:\n",
    "                gender_genre_list[user_gender_list[u]][j] += 1\n",
    "        if user_gender_list[u] not in gender_composer_list:\n",
    "            gender_composer_list[user_gender_list[u]] = defaultdict(int)\n",
    "        if s in song_composer_list:\n",
    "            gender_composer_list[user_gender_list[u]][song_composer_list[s]] += 1\n",
    "        if user_gender_list[u] not in gender_artist_list:\n",
    "            gender_artist_list[user_gender_list[u]] = defaultdict(int)\n",
    "        gender_artist_list[user_gender_list[u]][song_artist_list[s]] += 1\n",
    "    \n",
    "    if u in user_bd_list:\n",
    "        if user_bd_list[u] not in bd_genre_list:\n",
    "            bd_genre_list[user_bd_list[u]] = defaultdict(int)\n",
    "        if s in song_genre_list:\n",
    "            for j in song_genre_list[s]:\n",
    "                bd_genre_list[user_bd_list[u]][j] += 1\n",
    "        if user_bd_list[u] not in bd_artist_list:\n",
    "            bd_artist_list[user_bd_list[u]] = defaultdict(int)\n",
    "        bd_artist_list[user_bd_list[u]][song_artist_list[s]] += 1\n",
    "    \n",
    "    if user_city_list[u] not in city_genre_list:\n",
    "        city_genre_list[user_city_list[u]] = defaultdict(int)\n",
    "    if s in song_genre_list:\n",
    "        for j in song_genre_list[s]:\n",
    "            city_genre_list[user_city_list[u]][j] += 1\n",
    "    if user_city_list[u] not in city_language_list:\n",
    "        city_language_list[user_city_list[u]] = defaultdict(int)\n",
    "    city_language_list[user_city_list[u]][song_language_list[s]] += 1\n",
    "    if user_city_list[u] not in city_artist_list:\n",
    "        city_artist_list[user_city_list[u]] = defaultdict(int)\n",
    "    city_artist_list[user_city_list[u]][song_artist_list[s]] += 1\n"
   ]
  },
  {
   "cell_type": "markdown",
   "metadata": {},
   "source": [
    "### Randomy Generated Training Data\n"
   ]
  },
  {
   "cell_type": "code",
   "execution_count": 160,
   "metadata": {
    "collapsed": true
   },
   "outputs": [],
   "source": [
    "from random import randrange, uniform\n",
    "# from sets import Set\n",
    "I = set()\n",
    "while (len(I) < 1500000):\n",
    "    x = randrange(0, len(data))\n",
    "    I.add(x)\n",
    "\n",
    "train_data=[]\n",
    "\n",
    "\n",
    "for i in I:\n",
    "    train_data.append((data['msno'][i],data['song_id'][i],data['target'][i]))\n",
    "    \n",
    "\n",
    "\n"
   ]
  },
  {
   "cell_type": "code",
   "execution_count": 168,
   "metadata": {},
   "outputs": [
    {
     "data": {
      "text/plain": [
       "153000001"
      ]
     },
     "execution_count": 168,
     "metadata": {},
     "output_type": "execute_result"
    }
   ],
   "source": [
    "import csv\n",
    "\n",
    "out = csv.writer(open(\"final_train_data2.csv\",\"w\"), delimiter=',',quoting=csv.QUOTE_ALL)\n",
    "out.writerow(train_data)\n"
   ]
  },
  {
   "cell_type": "code",
   "execution_count": null,
   "metadata": {
    "collapsed": true
   },
   "outputs": [],
   "source": []
  },
  {
   "cell_type": "markdown",
   "metadata": {
    "collapsed": true
   },
   "source": [
    "### Extract Fratures\n"
   ]
  },
  {
   "cell_type": "code",
   "execution_count": 39,
   "metadata": {},
   "outputs": [
    {
     "name": "stdout",
     "output_type": "stream",
     "text": [
      "[0, 0, 0, 0, 0, 0, 0, 0, 0, 0, 0, 0, 0, 0, 0, 0, 0, 0, 0, 0, 0, 0, 0, 0, 0, 0, 0, 0, 0, 0, 0, 0, 0, 0, 0, 0, 0, 0, 0, 0, 0, 0, 0, 0, 0, 0, 0, 0, 0, 0, 0, 0, 0, 0, 0, 0, 0, 0, 0, 0, 0, 0, 0, 0, 0, 0, 0, 0, 0, 0, 0, 0, 0, 0, 0, 0, 0, 0, 0, 0, 0, 0, 0, 0, 0, 0, 0, 0, 0, 0, 0, 0, 0, 0, 0, 0, 0, 0, 0, 0, 0, 0, 0, 0, 0, 0, 0, 0, 0, 0, 0, 0, 0, 0, 0, 0, 0, 0, 0, 0, 0, 0, 0, 0, 0, 0, 0, 0, 0, 0, 0, 0, 0, 0, 0, 0, 0, 0, 0, 0, 0, 0, 0, 0, 0, 0, 0, 0, 0, 0, 0, 0, 0, 0, 0, 0, 0, 0, 0, 0, 0, 0, 0, 0, 0, 0, 0, 0, 0, 0, 0, 0, 0, 0, 0, 0, 0, 0, 0, 0, 0, 0, 0, 0, 0, 0, 0, 0, 0, 0, 0, 0, 0, 0, 0, 0, 0, 0, 0, 0, 0, 0, 0, 0, 0, 0, 0, 0, 0, 0, 0, 0, 0, 0, 0, 0, 0, 0, 0, 0, 0, 0, 0, 0, 0, 0, 0, 0, 0, 0, 0, 0, 0, 0, 0, 0, 0, 0, 0, 0, 0, 0, 0, 0, 0, 0, 0, 0, 0, 0, 0, 0, 0, 0, 0, 0, 0, 0, 0, 0, 0, 0, 0, 0, 0, 0, 0, 0, 0, 0, 0, 0, 0, 0, 0, 0, 0, 0, 0, 0, 0, 0, 0, 0, 0, 0, 0, 0, 0, 0, 0, 0, 0, 0, 0, 0, 0, 0, 0, 0, 0, 0, 0, 0, 0, 0, 0, 0, 0, 0, 0, 0, 0, 0, 0, 0, 0, 0, 0]\n",
      "[[1, 0, 0, 0, 0, 0, 0, 0, 0, 0, 0, 0, 0, 0, 0, 0, 0, 0, 0, 0, 0, 0, 0, 0, 0, 0, 0, 0, 0, 0, 0, 0, 0, 0, 0, 0, 0, 0, 0, 0, 0, 0, 0, 0, 0, 0, 0, 0, 0, 0, 0, 0, 0, 0, 0, 0, 0, 0, 0, 0, 0, 0, 0, 0, 0, 0, 0, 0, 0, 0, 0, 0, 0, 0, 0, 0, 0, 0, 0, 0, 0, 0, 0, 0, 0, 0, 0, 0, 0, 0, 0, 0, 0, 0, 0, 0, 0, 0, 0, 0, 0, 0, 0, 0, 0, 0, 0, 0, 0, 0, 0, 0, 0, 0, 0, 0, 0, 0, 0, 0, 0, 0, 0, 0, 0, 0, 0, 0, 1, 0, 0, 0, 0, 0, 0, 0, 0, 0, 0, 0, 0, 0, 0, 0, 0, 0, 0, 0, 0, 0, 0, 0, 0, 0, 0, 0, 0, 0, 0, 0, 0, 0, 0, 0, 0, 0, 0, 0, 0, 0, 0, 0, 0, 0, 0, 0, 0, 0, 0, 0, 0, 0, 0, 0, 0, 0, 0, 0, 0, 0, 0, 0, 0, 0, 0, 0, 0, 0, 0, 0, 0, 0, 0, 0, 0, 0, 0, 0, 0, 0, 0, 0, 0, 0, 0, 0, 0, 0, 0, 0, 0, 0, 0, 0, 0, 0, 0, 0, 0, 0, 0, 0, 0, 0, 0, 0, 0, 0, 0, 0, 0, 0, 0, 0, 0, 0, 0, 0, 0, 0, 0, 0, 0, 0, 0, 0, 0, 0, 0, 0, 0, 0, 0, 0, 0, 0, 0, 0, 0, 0, 0, 0, 0, 0, 0, 0, 0, 0, 0, 0, 0, 0, 0, 0, 0, 0, 0, 0, 0, 0, 0, 0, 0, 0, 0, 0, 0, 0, 0, 0, 0, 0, 0, 0, 0, 0, 0, 0, 0, 0, 1, 0, 0, 0, 0, 0, 0, 0, 0]]\n"
     ]
    }
   ],
   "source": [
    "city_dict=dict(zip(city_list, range(len(city_list))))\n",
    "bd_dict=dict(zip(bd_list, range(len(bd_list))))\n",
    "gender_dict=dict(zip(gender_list, range(len(gender_list))))\n",
    "genre_dict=dict(zip(genre_list, range(len(genre_list))))\n",
    "language_dict= dict(zip(language_list, range(len(language_list))))\n",
    "\n",
    "\n",
    "def feature1(datum):\n",
    "    feat1=[0]*(len(city_list)+len(bd_list)+len(gender_list)+len(genre_list)+len(language_list))\n",
    "    print(feat1)\n",
    "    user=datum[0]\n",
    "    song=datum[1]\n",
    "    curr_city=city_dict[user_city_list[user]]\n",
    "    feat1[curr_city]=1\n",
    "    if user in user_bd_list:\n",
    "        curr_bd=bd_dict[user_bd_list[user]]\n",
    "        feat1[len(city_list)+curr_bd]=1\n",
    "    if user in user_gender_list:\n",
    "        curr_gender=gender_dict[user_gender_list[user]]\n",
    "        feat1[len(city_list)+len(bd_list)+curr_gender]=1\n",
    "    if song in song_genre_list:\n",
    "        for i in song_genre_list[song]:\n",
    "            curr_genre=genre_dict[i]\n",
    "            feat1[len(city_list)+len(bd_list)+len(gender_list)+curr_genre]=1\n",
    "    if song in song_language_list:\n",
    "        curr_lang=language_dict[song_language_list[song]]\n",
    "        feat1[len(city_list)+len(bd_list)+len(gender_list)+len(genre_list)+curr_lang]=1\n",
    "        \n",
    "     ##Append for user-user similarity based on song\n",
    "    flag=False\n",
    "    if user in user_list:\n",
    "        for users in user_list[u]:\n",
    "            if users in song_list[m]:\n",
    "                feat1.append(1)\n",
    "                flag=True\n",
    "                break\n",
    "        if flag==False:\n",
    "            feat1.append(0) \n",
    "    \n",
    "    \n",
    "    ##Append for song-song similarity based on user\n",
    "    ##users_songlist=defaultdict(set)\n",
    "    ##songs_songs_list=dict(defaultdict(str))\n",
    "    flag=False\n",
    "    if song in song_song_list:\n",
    "        for songs in song_song_list[song]:\n",
    "            if songs in user_songlist[user]:\n",
    "                feat1.append(1)\n",
    "                flag=True\n",
    "                break\n",
    "        if flag==False:\n",
    "            feat1.append(0)\n",
    "    \n",
    "    ##Append for user user similarity based on Artist\n",
    "    \n",
    "    \n",
    "        \n",
    "    return feat1\n",
    "    \n",
    "    \n",
    "    \n",
    "    \n",
    "    \n",
    "out=[feature1(d) for d in X[:1]]\n",
    "print(out)"
   ]
  },
  {
   "cell_type": "code",
   "execution_count": 40,
   "metadata": {},
   "outputs": [
    {
     "name": "stdout",
     "output_type": "stream",
     "text": [
      "[1, 0, 0, 0, 0, 0, 0, 0, 0, 0, 0, 0, 0, 0, 0, 0, 0, 0, 0, 0, 0, 0, 0, 0, 0, 0, 0, 0, 0, 0, 0, 0, 0, 0, 0, 0, 0, 0, 0, 0, 0, 0, 0, 0, 0, 0, 0, 0, 0, 0, 0, 0, 0, 0, 0, 0, 0, 0, 0, 0, 0, 0, 0, 0, 0, 0, 0, 0, 0, 0, 0, 0, 0, 0, 0, 0, 0, 0, 0, 0, 0, 0, 0, 0, 0, 0, 0, 0, 0, 0, 0, 0, 0, 0, 0, 0, 0, 0, 0, 0, 0, 0, 0, 0, 0, 0, 0, 0, 0, 0, 0, 0, 0, 0, 0, 0, 0, 0, 0, 0, 0, 0, 0, 0, 0, 0, 0, 0, 1, 0, 0, 0, 0, 0, 0, 0, 0, 0, 0, 0, 0, 0, 0, 0, 0, 0, 0, 0, 0, 0, 0, 0, 0, 0, 0, 0, 0, 0, 0, 0, 0, 0, 0, 0, 0, 0, 0, 0, 0, 0, 0, 0, 0, 0, 0, 0, 0, 0, 0, 0, 0, 0, 0, 0, 0, 0, 0, 0, 0, 0, 0, 0, 0, 0, 0, 0, 0, 0, 0, 0, 0, 0, 0, 0, 0, 0, 0, 0, 0, 0, 0, 0, 0, 0, 0, 0, 0, 0, 0, 0, 0, 0, 0, 0, 0, 0, 0, 0, 0, 0, 0, 0, 0, 0, 0, 0, 0, 0, 0, 0, 0, 0, 0, 0, 0, 0, 0, 0, 0, 0, 0, 0, 0, 0, 0, 0, 0, 0, 0, 0, 0, 0, 0, 0, 0, 0, 0, 0, 0, 0, 0, 0, 0, 0, 0, 0, 0, 0, 0, 0, 0, 0, 0, 0, 0, 0, 0, 0, 0, 0, 0, 0, 0, 0, 0, 0, 0, 0, 0, 0, 0, 0, 0, 0, 0, 0, 0, 0, 0, 0, 1, 0, 0, 0, 0, 0, 0, 0, 0]\n"
     ]
    }
   ],
   "source": [
    "for i in out:\n",
    "    print(i)"
   ]
  },
  {
   "cell_type": "code",
   "execution_count": 33,
   "metadata": {},
   "outputs": [
    {
     "name": "stdout",
     "output_type": "stream",
     "text": [
      "defaultdict(<class 'int'>, {'359': 1})\n",
      "1\n"
     ]
    }
   ],
   "source": [
    "print(song_genre_list['BBzumQNXUHKdEBOB7mAJuzok+IJA1c2Ryg/yzTF6tik='])\n",
    "print(user_city_list['FGtllVqz18RPiwJj/edr2gV78zirAiY/9SmYvia+kCg='])"
   ]
  },
  {
   "cell_type": "code",
   "execution_count": null,
   "metadata": {
    "collapsed": true
   },
   "outputs": [],
   "source": []
  }
 ],
 "metadata": {
  "kernelspec": {
   "display_name": "Python 3",
   "language": "python",
   "name": "python3"
  },
  "language_info": {
   "codemirror_mode": {
    "name": "ipython",
    "version": 3
   },
   "file_extension": ".py",
   "mimetype": "text/x-python",
   "name": "python",
   "nbconvert_exporter": "python",
   "pygments_lexer": "ipython3",
   "version": "3.6.2"
  }
 },
 "nbformat": 4,
 "nbformat_minor": 2
}
